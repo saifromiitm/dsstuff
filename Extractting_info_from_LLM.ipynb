{
  "nbformat": 4,
  "nbformat_minor": 0,
  "metadata": {
    "colab": {
      "provenance": [],
      "include_colab_link": true
    },
    "kernelspec": {
      "name": "python3",
      "display_name": "Python 3"
    },
    "language_info": {
      "name": "python"
    }
  },
  "cells": [
    {
      "cell_type": "markdown",
      "metadata": {
        "id": "view-in-github",
        "colab_type": "text"
      },
      "source": [
        "<a href=\"https://colab.research.google.com/github/saifromiitm/dsstuff/blob/main/Extractting_info_from_LLM.ipynb\" target=\"_parent\"><img src=\"https://colab.research.google.com/assets/colab-badge.svg\" alt=\"Open In Colab\"/></a>"
      ]
    },
    {
      "cell_type": "markdown",
      "source": [
        "# LLM Extraction\n",
        "\n",
        "Let's talk about how we can extract systematic information from a dataset.\n",
        "\n",
        "Let's say we have a bunch of famous addresses.\n",
        "\n",
        "We want to systematically extract the state name, the zip code, if it exists."
      ],
      "metadata": {
        "id": "34OdHTnRokXd"
      }
    },
    {
      "cell_type": "code",
      "execution_count": null,
      "metadata": {
        "id": "hzrBOFSrtqa1"
      },
      "outputs": [],
      "source": [
        "addresses = [\n",
        "    {\"place\": \"White House\", \"address\": \"1600 Pennsylvania Avenue, Washington DC\"},\n",
        "    {\"place\": \"NYSE\", \"address\": \"11 Wall Street New York, NY\"},\n",
        "    {\"place\": \"Empire State Building\", \"address\": \"350 Fifth Avenue New York, NY 10118\"},\n",
        "    {\"place\": \"Hollywood sign\", \"address\": \"4059 Mt Lee Dr. Hollywood, CA 90068\"},\n",
        "    {\"place\": \"Statue of Liberty\", \"address\": \"Statue of Liberty, Liberty Island New York, NY 10004\"},\n",
        "    {\"place\": \"Fatehpur Sikri\", \"address\": \"Fatehpur Sikri, UP 283110, Agra\"}\n",
        "]"
      ]
    },
    {
      "cell_type": "markdown",
      "source": [
        "You need to define the [`OPENAI_API_KEY`](https://platform.openai.com/account/api-keys) in the Secrets tab of Colab to access the OpenAI models."
      ],
      "metadata": {
        "id": "jvC5_vL3ouWr"
      }
    },
    {
      "cell_type": "code",
      "source": [
        "from google.colab import userdata\n",
        "api_key = userdata.get('OPENAI_API_KEY')"
      ],
      "metadata": {
        "id": "Vq87MFLCt_s0"
      },
      "execution_count": null,
      "outputs": []
    },
    {
      "cell_type": "markdown",
      "source": [
        "Let's send a request to the GPT 3.5 Turbo model and ask for a JSON object.\n",
        "\n",
        "Along with the address, we pass the instructions (system prompt)\n",
        "\n",
        "```\n",
        "Extract the state name, ZIP code and country as JSON.\n",
        "Use {\"state_name\": ..., \"zip_code\": ..., \"country\": 3-letter country code}\n",
        "```"
      ],
      "metadata": {
        "id": "R-ZLmGk7pMBN"
      }
    },
    {
      "cell_type": "code",
      "source": [
        "import json\n",
        "import requests\n",
        "\n",
        "def get_address(address):\n",
        "    url = \"https://api.openai.com/v1/chat/completions\"\n",
        "    headers = {\n",
        "        \"Content-Type\": \"application/json\",\n",
        "        \"Authorization\": f\"Bearer {api_key}\"\n",
        "    }\n",
        "    data = {\n",
        "        \"model\": \"gpt-3.5-turbo\",\n",
        "        \"response_format\": { \"type\": \"json_object\" },\n",
        "        \"messages\": [\n",
        "            {\n",
        "                \"role\": \"system\",\n",
        "                \"content\": \"\"\"\n",
        "Extract the state name, ZIP code and country as JSON.\n",
        "Use {\"state_name\": ..., \"zip_code\": ..., \"country\": 3-letter country code}\n",
        "\"\"\"\n",
        "            },\n",
        "            {\n",
        "                \"role\": \"user\",\n",
        "                \"content\": address\n",
        "            }\n",
        "        ]\n",
        "    }\n",
        "\n",
        "    response = requests.post(url, headers=headers, json=data)\n",
        "    result = response.json()\n",
        "    return json.loads(result[\"choices\"][0][\"message\"][\"content\"])\n",
        "\n",
        "get_address(addresses[0]['address'])"
      ],
      "metadata": {
        "colab": {
          "base_uri": "https://localhost:8080/"
        },
        "id": "pahJEt2kvL7v",
        "outputId": "727ac013-c606-43ec-b985-e5a9f516f1f2"
      },
      "execution_count": null,
      "outputs": [
        {
          "output_type": "execute_result",
          "data": {
            "text/plain": [
              "{'state_name': 'Washington D.C.', 'zip_code': '20500', 'country': 'USA'}"
            ]
          },
          "metadata": {},
          "execution_count": 29
        }
      ]
    },
    {
      "cell_type": "markdown",
      "source": [
        "Now let's run this on all the addresses."
      ],
      "metadata": {
        "id": "b0g9H2vZqOE5"
      }
    },
    {
      "cell_type": "code",
      "source": [
        "from copy import deepcopy\n",
        "from tqdm import tqdm\n",
        "\n",
        "addr = deepcopy(addresses)\n",
        "\n",
        "for item in tqdm(addr):\n",
        "    item.update(get_address(item[\"address\"]))"
      ],
      "metadata": {
        "colab": {
          "base_uri": "https://localhost:8080/"
        },
        "id": "k8t4G3Xkum9P",
        "outputId": "81596096-f7d0-43ce-ebf6-fff9633c27f3"
      },
      "execution_count": null,
      "outputs": [
        {
          "output_type": "stream",
          "name": "stderr",
          "text": [
            "100%|██████████| 6/6 [00:04<00:00,  1.23it/s]\n"
          ]
        }
      ]
    },
    {
      "cell_type": "code",
      "source": [
        "import pandas as pd\n",
        "pd.DataFrame(addr)"
      ],
      "metadata": {
        "colab": {
          "base_uri": "https://localhost:8080/",
          "height": 238
        },
        "id": "qeEebgq4w3WD",
        "outputId": "c1cf15a3-d899-4892-b78f-e758a0ec9f11"
      },
      "execution_count": null,
      "outputs": [
        {
          "output_type": "execute_result",
          "data": {
            "text/plain": [
              "                   place                                            address  \\\n",
              "0            White House            1600 Pennsylvania Avenue, Washington DC   \n",
              "1                   NYSE                        11 Wall Street New York, NY   \n",
              "2  Empire State Building                350 Fifth Avenue New York, NY 10118   \n",
              "3         Hollywood sign                4059 Mt Lee Dr. Hollywood, CA 90068   \n",
              "4      Statue of Liberty  Statue of Liberty, Liberty Island New York, NY...   \n",
              "5         Fatehpur Sikri                    Fatehpur Sikri, UP 283110, Agra   \n",
              "\n",
              "      state_name zip_code country  \n",
              "0  Washington DC    20006     USA  \n",
              "1       New York    10005     USA  \n",
              "2       New York    10118     USA  \n",
              "3     California    90068     USA  \n",
              "4       New York    10004     USA  \n",
              "5  Uttar Pradesh   283110     IND  "
            ],
            "text/html": [
              "\n",
              "  <div id=\"df-bc1ff8a6-b8e5-41dc-aa5e-2524e78b17f2\" class=\"colab-df-container\">\n",
              "    <div>\n",
              "<style scoped>\n",
              "    .dataframe tbody tr th:only-of-type {\n",
              "        vertical-align: middle;\n",
              "    }\n",
              "\n",
              "    .dataframe tbody tr th {\n",
              "        vertical-align: top;\n",
              "    }\n",
              "\n",
              "    .dataframe thead th {\n",
              "        text-align: right;\n",
              "    }\n",
              "</style>\n",
              "<table border=\"1\" class=\"dataframe\">\n",
              "  <thead>\n",
              "    <tr style=\"text-align: right;\">\n",
              "      <th></th>\n",
              "      <th>place</th>\n",
              "      <th>address</th>\n",
              "      <th>state_name</th>\n",
              "      <th>zip_code</th>\n",
              "      <th>country</th>\n",
              "    </tr>\n",
              "  </thead>\n",
              "  <tbody>\n",
              "    <tr>\n",
              "      <th>0</th>\n",
              "      <td>White House</td>\n",
              "      <td>1600 Pennsylvania Avenue, Washington DC</td>\n",
              "      <td>Washington DC</td>\n",
              "      <td>20006</td>\n",
              "      <td>USA</td>\n",
              "    </tr>\n",
              "    <tr>\n",
              "      <th>1</th>\n",
              "      <td>NYSE</td>\n",
              "      <td>11 Wall Street New York, NY</td>\n",
              "      <td>New York</td>\n",
              "      <td>10005</td>\n",
              "      <td>USA</td>\n",
              "    </tr>\n",
              "    <tr>\n",
              "      <th>2</th>\n",
              "      <td>Empire State Building</td>\n",
              "      <td>350 Fifth Avenue New York, NY 10118</td>\n",
              "      <td>New York</td>\n",
              "      <td>10118</td>\n",
              "      <td>USA</td>\n",
              "    </tr>\n",
              "    <tr>\n",
              "      <th>3</th>\n",
              "      <td>Hollywood sign</td>\n",
              "      <td>4059 Mt Lee Dr. Hollywood, CA 90068</td>\n",
              "      <td>California</td>\n",
              "      <td>90068</td>\n",
              "      <td>USA</td>\n",
              "    </tr>\n",
              "    <tr>\n",
              "      <th>4</th>\n",
              "      <td>Statue of Liberty</td>\n",
              "      <td>Statue of Liberty, Liberty Island New York, NY...</td>\n",
              "      <td>New York</td>\n",
              "      <td>10004</td>\n",
              "      <td>USA</td>\n",
              "    </tr>\n",
              "    <tr>\n",
              "      <th>5</th>\n",
              "      <td>Fatehpur Sikri</td>\n",
              "      <td>Fatehpur Sikri, UP 283110, Agra</td>\n",
              "      <td>Uttar Pradesh</td>\n",
              "      <td>283110</td>\n",
              "      <td>IND</td>\n",
              "    </tr>\n",
              "  </tbody>\n",
              "</table>\n",
              "</div>\n",
              "    <div class=\"colab-df-buttons\">\n",
              "\n",
              "  <div class=\"colab-df-container\">\n",
              "    <button class=\"colab-df-convert\" onclick=\"convertToInteractive('df-bc1ff8a6-b8e5-41dc-aa5e-2524e78b17f2')\"\n",
              "            title=\"Convert this dataframe to an interactive table.\"\n",
              "            style=\"display:none;\">\n",
              "\n",
              "  <svg xmlns=\"http://www.w3.org/2000/svg\" height=\"24px\" viewBox=\"0 -960 960 960\">\n",
              "    <path d=\"M120-120v-720h720v720H120Zm60-500h600v-160H180v160Zm220 220h160v-160H400v160Zm0 220h160v-160H400v160ZM180-400h160v-160H180v160Zm440 0h160v-160H620v160ZM180-180h160v-160H180v160Zm440 0h160v-160H620v160Z\"/>\n",
              "  </svg>\n",
              "    </button>\n",
              "\n",
              "  <style>\n",
              "    .colab-df-container {\n",
              "      display:flex;\n",
              "      gap: 12px;\n",
              "    }\n",
              "\n",
              "    .colab-df-convert {\n",
              "      background-color: #E8F0FE;\n",
              "      border: none;\n",
              "      border-radius: 50%;\n",
              "      cursor: pointer;\n",
              "      display: none;\n",
              "      fill: #1967D2;\n",
              "      height: 32px;\n",
              "      padding: 0 0 0 0;\n",
              "      width: 32px;\n",
              "    }\n",
              "\n",
              "    .colab-df-convert:hover {\n",
              "      background-color: #E2EBFA;\n",
              "      box-shadow: 0px 1px 2px rgba(60, 64, 67, 0.3), 0px 1px 3px 1px rgba(60, 64, 67, 0.15);\n",
              "      fill: #174EA6;\n",
              "    }\n",
              "\n",
              "    .colab-df-buttons div {\n",
              "      margin-bottom: 4px;\n",
              "    }\n",
              "\n",
              "    [theme=dark] .colab-df-convert {\n",
              "      background-color: #3B4455;\n",
              "      fill: #D2E3FC;\n",
              "    }\n",
              "\n",
              "    [theme=dark] .colab-df-convert:hover {\n",
              "      background-color: #434B5C;\n",
              "      box-shadow: 0px 1px 3px 1px rgba(0, 0, 0, 0.15);\n",
              "      filter: drop-shadow(0px 1px 2px rgba(0, 0, 0, 0.3));\n",
              "      fill: #FFFFFF;\n",
              "    }\n",
              "  </style>\n",
              "\n",
              "    <script>\n",
              "      const buttonEl =\n",
              "        document.querySelector('#df-bc1ff8a6-b8e5-41dc-aa5e-2524e78b17f2 button.colab-df-convert');\n",
              "      buttonEl.style.display =\n",
              "        google.colab.kernel.accessAllowed ? 'block' : 'none';\n",
              "\n",
              "      async function convertToInteractive(key) {\n",
              "        const element = document.querySelector('#df-bc1ff8a6-b8e5-41dc-aa5e-2524e78b17f2');\n",
              "        const dataTable =\n",
              "          await google.colab.kernel.invokeFunction('convertToInteractive',\n",
              "                                                    [key], {});\n",
              "        if (!dataTable) return;\n",
              "\n",
              "        const docLinkHtml = 'Like what you see? Visit the ' +\n",
              "          '<a target=\"_blank\" href=https://colab.research.google.com/notebooks/data_table.ipynb>data table notebook</a>'\n",
              "          + ' to learn more about interactive tables.';\n",
              "        element.innerHTML = '';\n",
              "        dataTable['output_type'] = 'display_data';\n",
              "        await google.colab.output.renderOutput(dataTable, element);\n",
              "        const docLink = document.createElement('div');\n",
              "        docLink.innerHTML = docLinkHtml;\n",
              "        element.appendChild(docLink);\n",
              "      }\n",
              "    </script>\n",
              "  </div>\n",
              "\n",
              "\n",
              "<div id=\"df-3e7dd9d3-761d-44d4-ab18-d0d16b1083ae\">\n",
              "  <button class=\"colab-df-quickchart\" onclick=\"quickchart('df-3e7dd9d3-761d-44d4-ab18-d0d16b1083ae')\"\n",
              "            title=\"Suggest charts\"\n",
              "            style=\"display:none;\">\n",
              "\n",
              "<svg xmlns=\"http://www.w3.org/2000/svg\" height=\"24px\"viewBox=\"0 0 24 24\"\n",
              "     width=\"24px\">\n",
              "    <g>\n",
              "        <path d=\"M19 3H5c-1.1 0-2 .9-2 2v14c0 1.1.9 2 2 2h14c1.1 0 2-.9 2-2V5c0-1.1-.9-2-2-2zM9 17H7v-7h2v7zm4 0h-2V7h2v10zm4 0h-2v-4h2v4z\"/>\n",
              "    </g>\n",
              "</svg>\n",
              "  </button>\n",
              "\n",
              "<style>\n",
              "  .colab-df-quickchart {\n",
              "      --bg-color: #E8F0FE;\n",
              "      --fill-color: #1967D2;\n",
              "      --hover-bg-color: #E2EBFA;\n",
              "      --hover-fill-color: #174EA6;\n",
              "      --disabled-fill-color: #AAA;\n",
              "      --disabled-bg-color: #DDD;\n",
              "  }\n",
              "\n",
              "  [theme=dark] .colab-df-quickchart {\n",
              "      --bg-color: #3B4455;\n",
              "      --fill-color: #D2E3FC;\n",
              "      --hover-bg-color: #434B5C;\n",
              "      --hover-fill-color: #FFFFFF;\n",
              "      --disabled-bg-color: #3B4455;\n",
              "      --disabled-fill-color: #666;\n",
              "  }\n",
              "\n",
              "  .colab-df-quickchart {\n",
              "    background-color: var(--bg-color);\n",
              "    border: none;\n",
              "    border-radius: 50%;\n",
              "    cursor: pointer;\n",
              "    display: none;\n",
              "    fill: var(--fill-color);\n",
              "    height: 32px;\n",
              "    padding: 0;\n",
              "    width: 32px;\n",
              "  }\n",
              "\n",
              "  .colab-df-quickchart:hover {\n",
              "    background-color: var(--hover-bg-color);\n",
              "    box-shadow: 0 1px 2px rgba(60, 64, 67, 0.3), 0 1px 3px 1px rgba(60, 64, 67, 0.15);\n",
              "    fill: var(--button-hover-fill-color);\n",
              "  }\n",
              "\n",
              "  .colab-df-quickchart-complete:disabled,\n",
              "  .colab-df-quickchart-complete:disabled:hover {\n",
              "    background-color: var(--disabled-bg-color);\n",
              "    fill: var(--disabled-fill-color);\n",
              "    box-shadow: none;\n",
              "  }\n",
              "\n",
              "  .colab-df-spinner {\n",
              "    border: 2px solid var(--fill-color);\n",
              "    border-color: transparent;\n",
              "    border-bottom-color: var(--fill-color);\n",
              "    animation:\n",
              "      spin 1s steps(1) infinite;\n",
              "  }\n",
              "\n",
              "  @keyframes spin {\n",
              "    0% {\n",
              "      border-color: transparent;\n",
              "      border-bottom-color: var(--fill-color);\n",
              "      border-left-color: var(--fill-color);\n",
              "    }\n",
              "    20% {\n",
              "      border-color: transparent;\n",
              "      border-left-color: var(--fill-color);\n",
              "      border-top-color: var(--fill-color);\n",
              "    }\n",
              "    30% {\n",
              "      border-color: transparent;\n",
              "      border-left-color: var(--fill-color);\n",
              "      border-top-color: var(--fill-color);\n",
              "      border-right-color: var(--fill-color);\n",
              "    }\n",
              "    40% {\n",
              "      border-color: transparent;\n",
              "      border-right-color: var(--fill-color);\n",
              "      border-top-color: var(--fill-color);\n",
              "    }\n",
              "    60% {\n",
              "      border-color: transparent;\n",
              "      border-right-color: var(--fill-color);\n",
              "    }\n",
              "    80% {\n",
              "      border-color: transparent;\n",
              "      border-right-color: var(--fill-color);\n",
              "      border-bottom-color: var(--fill-color);\n",
              "    }\n",
              "    90% {\n",
              "      border-color: transparent;\n",
              "      border-bottom-color: var(--fill-color);\n",
              "    }\n",
              "  }\n",
              "</style>\n",
              "\n",
              "  <script>\n",
              "    async function quickchart(key) {\n",
              "      const quickchartButtonEl =\n",
              "        document.querySelector('#' + key + ' button');\n",
              "      quickchartButtonEl.disabled = true;  // To prevent multiple clicks.\n",
              "      quickchartButtonEl.classList.add('colab-df-spinner');\n",
              "      try {\n",
              "        const charts = await google.colab.kernel.invokeFunction(\n",
              "            'suggestCharts', [key], {});\n",
              "      } catch (error) {\n",
              "        console.error('Error during call to suggestCharts:', error);\n",
              "      }\n",
              "      quickchartButtonEl.classList.remove('colab-df-spinner');\n",
              "      quickchartButtonEl.classList.add('colab-df-quickchart-complete');\n",
              "    }\n",
              "    (() => {\n",
              "      let quickchartButtonEl =\n",
              "        document.querySelector('#df-3e7dd9d3-761d-44d4-ab18-d0d16b1083ae button');\n",
              "      quickchartButtonEl.style.display =\n",
              "        google.colab.kernel.accessAllowed ? 'block' : 'none';\n",
              "    })();\n",
              "  </script>\n",
              "</div>\n",
              "\n",
              "    </div>\n",
              "  </div>\n"
            ],
            "application/vnd.google.colaboratory.intrinsic+json": {
              "type": "dataframe",
              "summary": "{\n  \"name\": \"pd\",\n  \"rows\": 6,\n  \"fields\": [\n    {\n      \"column\": \"place\",\n      \"properties\": {\n        \"dtype\": \"string\",\n        \"num_unique_values\": 6,\n        \"samples\": [\n          \"White House\",\n          \"NYSE\",\n          \"Fatehpur Sikri\"\n        ],\n        \"semantic_type\": \"\",\n        \"description\": \"\"\n      }\n    },\n    {\n      \"column\": \"address\",\n      \"properties\": {\n        \"dtype\": \"string\",\n        \"num_unique_values\": 6,\n        \"samples\": [\n          \"1600 Pennsylvania Avenue, Washington DC\",\n          \"11 Wall Street New York, NY\",\n          \"Fatehpur Sikri, UP 283110, Agra\"\n        ],\n        \"semantic_type\": \"\",\n        \"description\": \"\"\n      }\n    },\n    {\n      \"column\": \"state_name\",\n      \"properties\": {\n        \"dtype\": \"string\",\n        \"num_unique_values\": 4,\n        \"samples\": [\n          \"New York\",\n          \"Uttar Pradesh\",\n          \"Washington DC\"\n        ],\n        \"semantic_type\": \"\",\n        \"description\": \"\"\n      }\n    },\n    {\n      \"column\": \"zip_code\",\n      \"properties\": {\n        \"dtype\": \"string\",\n        \"num_unique_values\": 6,\n        \"samples\": [\n          \"20006\",\n          \"10005\",\n          \"283110\"\n        ],\n        \"semantic_type\": \"\",\n        \"description\": \"\"\n      }\n    },\n    {\n      \"column\": \"country\",\n      \"properties\": {\n        \"dtype\": \"category\",\n        \"num_unique_values\": 2,\n        \"samples\": [\n          \"IND\",\n          \"USA\"\n        ],\n        \"semantic_type\": \"\",\n        \"description\": \"\"\n      }\n    }\n  ]\n}"
            }
          },
          "metadata": {},
          "execution_count": 31
        }
      ]
    },
    {
      "cell_type": "markdown",
      "source": [
        "This was a simple example and it gets the JSON structure right. But if we want a stronger guarantee of the output structure when it is complex, it's best to use a [JSON schema](https://json-schema.org/).\n",
        "\n",
        "Here is the JSON schema for a structure like this:\n",
        "\n",
        "```\n",
        "{\n",
        "    \"state\": {\"name\": \"Washington DC\", \"code\": \"DC\"},\n",
        "    \"country\": {\"name\": \"India\", \"code\": \"IND\"},\n",
        "    \"zip\": {\"code\": \"...\"}\n",
        "}\n",
        "```"
      ],
      "metadata": {
        "id": "NilGucILqWoX"
      }
    },
    {
      "cell_type": "code",
      "source": [
        "# Target output\n",
        "# {\n",
        "#     \"state\": {\"name\": \"Washington DC\", \"code\": \"DC\"},\n",
        "#     \"country\": {\"name\": \"India\", \"code\": \"IND\"},\n",
        "#     \"zip\": {\"code\": \"...\"}\n",
        "# }\n",
        "\n",
        "schema = {\n",
        "  \"type\": \"object\",\n",
        "  \"properties\": {\n",
        "    \"state\": {\n",
        "      \"type\": \"object\",\n",
        "      \"description\": \"Details about the state\",\n",
        "      \"properties\": {\n",
        "        \"name\": {\n",
        "          \"type\": \"string\",\n",
        "          \"description\": \"Official state name\"\n",
        "        },\n",
        "        \"code\": {\n",
        "          \"type\": \"string\",\n",
        "          \"description\": \"Official state code\"\n",
        "        }\n",
        "      },\n",
        "      \"required\": [\"name\", \"code\"]\n",
        "    },\n",
        "    \"country\": {\n",
        "      \"type\": \"object\",\n",
        "      \"description\": \"Details about the country\",\n",
        "      \"properties\": {\n",
        "        \"name\": {\n",
        "          \"type\": \"string\",\n",
        "          \"description\": \"Official country name\"\n",
        "        },\n",
        "        \"code\": {\n",
        "          \"type\": \"string\",\n",
        "          \"description\": \"3-letter country code\"\n",
        "        }\n",
        "      },\n",
        "      \"required\": [\"name\", \"code\"]\n",
        "    },\n",
        "    \"zip\": {\n",
        "      \"type\": \"object\",\n",
        "      \"description\": \"Details about the ZIP code\",\n",
        "      \"properties\": {\n",
        "        \"code\": {\n",
        "          \"type\": \"string\",\n",
        "          \"description\": \"ZIP code\"\n",
        "        }\n",
        "      },\n",
        "      \"required\": [\"code\"]\n",
        "    }\n",
        "  },\n",
        "  \"required\": [\"state\", \"country\", \"zip\"]\n",
        "}"
      ],
      "metadata": {
        "id": "RLvN-0G_w4Pu"
      },
      "execution_count": null,
      "outputs": []
    },
    {
      "cell_type": "markdown",
      "source": [
        "We'll use this schema using an approach called [function calling](https://platform.openai.com/docs/guides/function-calling)."
      ],
      "metadata": {
        "id": "Cm6qt_E4ql4N"
      }
    },
    {
      "cell_type": "code",
      "source": [
        "def get_address_schema(address):\n",
        "    url = \"https://api.openai.com/v1/chat/completions\"\n",
        "    headers = {\n",
        "        \"Content-Type\": \"application/json\",\n",
        "        \"Authorization\": f\"Bearer {api_key}\"\n",
        "    }\n",
        "    data = {\n",
        "        \"model\": \"gpt-3.5-turbo\",\n",
        "        \"response_format\": { \"type\": \"json_object\" },\n",
        "        \"tools\": [\n",
        "          {\"type\": \"function\", \"function\": {\"name\": \"extract_address\", \"description\": \"Extract address details\", \"parameters\": schema}}\n",
        "        ],\n",
        "        \"tool_choice\": {\"type\": \"function\", \"function\": {\"name\": \"extract_address\"}},\n",
        "        \"messages\": [\n",
        "            {\n",
        "                \"role\": \"system\",\n",
        "                \"content\": \"Get address as JSON via extract_address. If unsure, leave fields blank.\"\n",
        "            },\n",
        "            {\n",
        "                \"role\": \"user\",\n",
        "                \"content\": address\n",
        "            }\n",
        "        ]\n",
        "    }\n",
        "\n",
        "    response = requests.post(url, headers=headers, json=data)\n",
        "    result = response.json()\n",
        "    return json.loads(result[\"choices\"][0][\"message\"][\"tool_calls\"][0][\"function\"][\"arguments\"])\n",
        "\n",
        "get_address_schema(addresses[0]['address'])"
      ],
      "metadata": {
        "colab": {
          "base_uri": "https://localhost:8080/"
        },
        "id": "NiA8GBHOzVkO",
        "outputId": "37704bf7-db3c-4af4-f0da-670a5bd29fbd"
      },
      "execution_count": null,
      "outputs": [
        {
          "output_type": "execute_result",
          "data": {
            "text/plain": [
              "{'state': {'name': 'District of Columbia', 'code': 'DC'},\n",
              " 'country': {'name': 'United States', 'code': 'USA'},\n",
              " 'zip': {'code': ''}}"
            ]
          },
          "metadata": {},
          "execution_count": 45
        }
      ]
    },
    {
      "cell_type": "markdown",
      "source": [
        "Here's a sample usage."
      ],
      "metadata": {
        "id": "6D6YUiJ7rGdN"
      }
    },
    {
      "cell_type": "code",
      "source": [
        "get_address_schema(\"1234 Elmwood Avenue, Pristina, Veridonia, Canada.\")"
      ],
      "metadata": {
        "colab": {
          "base_uri": "https://localhost:8080/"
        },
        "id": "Pmjf5aY70Fa6",
        "outputId": "1f0dd9a3-29de-4ce0-ad90-e867a12ba342"
      },
      "execution_count": null,
      "outputs": [
        {
          "output_type": "execute_result",
          "data": {
            "text/plain": [
              "{'state': {'name': 'Veridonia', 'code': ''},\n",
              " 'country': {'name': 'Canada', 'code': 'CAN'},\n",
              " 'zip': {'code': ''}}"
            ]
          },
          "metadata": {},
          "execution_count": 46
        }
      ]
    }
  ]
}